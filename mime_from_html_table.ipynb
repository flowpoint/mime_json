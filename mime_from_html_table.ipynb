{
 "cells": [
  {
   "cell_type": "code",
   "execution_count": 1,
   "metadata": {},
   "outputs": [],
   "source": [
    "import pandas as pd\n",
    "import json"
   ]
  },
  {
   "cell_type": "code",
   "execution_count": 2,
   "metadata": {},
   "outputs": [],
   "source": [
    "import pandas as pd\n",
    "url = r'https://www.iana.org/assignments/media-types/media-types.xhtml'\n",
    "tables = pd.read_html(url) # Returns list of all tables on page\n",
    "\n",
    "application = tables[0] \n",
    "audio = tables[1]\n",
    "font = tables[2]\n",
    "images = tables[4]\n",
    "message = tables[5]\n",
    "model = tables[6]\n",
    "multipart = tables[7]\n",
    "text = tables[8]\n",
    "video = tables[9]\n",
    "\n",
    "media_tables = [application,\n",
    "                audio,\n",
    "                font,\n",
    "                images,\n",
    "                message,\n",
    "                model,\n",
    "                multipart,\n",
    "                text,\n",
    "                video]"
   ]
  },
  {
   "cell_type": "code",
   "execution_count": 3,
   "metadata": {},
   "outputs": [],
   "source": [
    "buf = []\n",
    "for k in range(len(media_tables)):\n",
    "    buf2 = []\n",
    "    for i in media_tables[k]['Name']:\n",
    "        buf2.append((i))\n",
    "       \n",
    "    buf.append(buf2)"
   ]
  },
  {
   "cell_type": "code",
   "execution_count": 4,
   "metadata": {},
   "outputs": [],
   "source": [
    "with open('mime_json.json', 'w') as mime_json:\n",
    "    json.dump(\n",
    "        {'application':buf[0]\n",
    "          ,'audio':buf[1]\n",
    "          ,'font':buf[2]\n",
    "          ,'images':buf[3]\n",
    "          ,'message':buf[4]\n",
    "          ,'model':buf[5]\n",
    "          ,'multipart':buf[6]\n",
    "          ,'text':buf[7]\n",
    "          ,'video':buf[8]}\n",
    "    , mime_json)"
   ]
  },
  {
   "cell_type": "code",
   "execution_count": null,
   "metadata": {},
   "outputs": [],
   "source": []
  }
 ],
 "metadata": {
  "kernelspec": {
   "display_name": "Python 3",
   "language": "python",
   "name": "python3"
  },
  "language_info": {
   "codemirror_mode": {
    "name": "ipython",
    "version": 3
   },
   "file_extension": ".py",
   "mimetype": "text/x-python",
   "name": "python",
   "nbconvert_exporter": "python",
   "pygments_lexer": "ipython3",
   "version": "3.6.2"
  }
 },
 "nbformat": 4,
 "nbformat_minor": 2
}
